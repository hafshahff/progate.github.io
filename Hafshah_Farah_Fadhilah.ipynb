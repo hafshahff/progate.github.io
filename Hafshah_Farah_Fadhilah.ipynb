{
  "nbformat": 4,
  "nbformat_minor": 0,
  "metadata": {
    "colab": {
      "name": "Hafshah Farah Fadhilah.ipynb",
      "provenance": [],
      "collapsed_sections": [],
      "include_colab_link": true
    },
    "kernelspec": {
      "name": "python3",
      "display_name": "Python 3"
    }
  },
  "cells": [
    {
      "cell_type": "markdown",
      "metadata": {
        "id": "view-in-github",
        "colab_type": "text"
      },
      "source": [
        "<a href=\"https://colab.research.google.com/github/hafshahff/progate.github.io/blob/main/Hafshah_Farah_Fadhilah.ipynb\" target=\"_parent\"><img src=\"https://colab.research.google.com/assets/colab-badge.svg\" alt=\"Open In Colab\"/></a>"
      ]
    },
    {
      "cell_type": "markdown",
      "metadata": {
        "id": "U4ToI8WG3rcX"
      },
      "source": [
        "**Submission Belajar Machine Learning Untuk Pemula**\n",
        "\n",
        "\n",
        "---\n",
        "\n",
        "<br>Nama: Hafshah Farah Fadhilah\n",
        "<br>Email: hafshahff@gmail.com\n",
        "<br>No Hp: 081280733183\n",
        "<br>Profil Dicoding: https://www.dicoding.com/users/hafshahf\n",
        "\n"
      ]
    },
    {
      "cell_type": "code",
      "metadata": {
        "colab": {
          "base_uri": "https://localhost:8080/"
        },
        "id": "qzrdvB9KD88f",
        "outputId": "2bf4265b-2d46-4435-d1de-61fbe8870c96"
      },
      "source": [
        "import tensorflow as tf\n",
        "from tensorflow.keras import layers\n",
        "from tensorflow.keras.models import Sequential\n",
        "from tensorflow.keras.optimizers import RMSprop\n",
        "from tensorflow.keras.preprocessing.image import ImageDataGenerator\n",
        "\n",
        "!wget --no-check-certificate \\\n",
        "  https://dicodingacademy.blob.core.windows.net/picodiploma/ml_pemula_academy/rockpaperscissors.zip"
      ],
      "execution_count": 1,
      "outputs": [
        {
          "output_type": "stream",
          "text": [
            "--2021-06-04 12:14:22--  https://dicodingacademy.blob.core.windows.net/picodiploma/ml_pemula_academy/rockpaperscissors.zip\n",
            "Resolving dicodingacademy.blob.core.windows.net (dicodingacademy.blob.core.windows.net)... 52.239.197.36\n",
            "Connecting to dicodingacademy.blob.core.windows.net (dicodingacademy.blob.core.windows.net)|52.239.197.36|:443... connected.\n",
            "HTTP request sent, awaiting response... 200 OK\n",
            "Length: 322873683 (308M) [application/zip]\n",
            "Saving to: ‘rockpaperscissors.zip’\n",
            "\n",
            "rockpaperscissors.z 100%[===================>] 307.92M  9.07MB/s    in 37s     \n",
            "\n",
            "2021-06-04 12:14:59 (8.35 MB/s) - ‘rockpaperscissors.zip’ saved [322873683/322873683]\n",
            "\n"
          ],
          "name": "stdout"
        }
      ]
    },
    {
      "cell_type": "code",
      "metadata": {
        "id": "1Io4tYcJYAbT"
      },
      "source": [
        "# melakukan ekstraksi pada file zip\n",
        "import zipfile, os\n",
        "local_zip = '/content/rockpaperscissors.zip'\n",
        "zip_ref = zipfile.ZipFile(local_zip, 'r')\n",
        "zip_ref.extractall('/tmp')\n",
        "zip_ref.close()\n",
        " \n",
        "base_dir = '/tmp/rockpaperscissors/rps-cv-images'\n",
        "train_dir = base_dir\n",
        "validation_dir = base_dir"
      ],
      "execution_count": 2,
      "outputs": []
    },
    {
      "cell_type": "code",
      "metadata": {
        "id": "jZtiaE-C1VnB"
      },
      "source": [
        "train_datagen = ImageDataGenerator(\n",
        "                    rescale=1./255,\n",
        "                    rotation_range=20,\n",
        "                    horizontal_flip=True,\n",
        "                    shear_range = 0.2,\n",
        "                    validation_split= 0.4,\n",
        "                    fill_mode = 'nearest')\n",
        "\n",
        "test_datagen = ImageDataGenerator(\n",
        "                    rescale=1./255,\n",
        "                    rotation_range=20,\n",
        "                    horizontal_flip=True,\n",
        "                    shear_range = 0.2,\n",
        "                    validation_split= 0.4,\n",
        "                    fill_mode = 'nearest')"
      ],
      "execution_count": 13,
      "outputs": []
    },
    {
      "cell_type": "code",
      "metadata": {
        "colab": {
          "base_uri": "https://localhost:8080/"
        },
        "id": "Ap0T5zE3Pi9g",
        "outputId": "255aa15c-775b-4c2a-d4e2-c9b5a0dad1a8"
      },
      "source": [
        "train_generator = train_datagen.flow_from_directory(\n",
        "        train_dir, \n",
        "        target_size=(150, 150),\n",
        "        batch_size=18,\n",
        "        subset='training',\n",
        "        seed = 123,\n",
        "        class_mode='categorical')\n",
        "\n",
        "validation_generator = test_datagen.flow_from_directory(\n",
        "        validation_dir,\n",
        "        target_size=(150, 150),\n",
        "        batch_size=18, \n",
        "        subset='validation',\n",
        "        seed = 123,\n",
        "        class_mode='categorical')"
      ],
      "execution_count": 14,
      "outputs": [
        {
          "output_type": "stream",
          "text": [
            "Found 1314 images belonging to 3 classes.\n",
            "Found 874 images belonging to 3 classes.\n"
          ],
          "name": "stdout"
        }
      ]
    },
    {
      "cell_type": "code",
      "metadata": {
        "id": "9J80BAbIMs21"
      },
      "source": [
        "data_augmentation = tf.keras.models.Sequential([\n",
        "  tf.keras.layers.experimental.preprocessing.RandomFlip(\"horizontal_and_vertical\"),\n",
        "  tf.keras.layers.experimental.preprocessing.RandomRotation(0.1),\n",
        "  tf.keras.layers.experimental.preprocessing.RandomZoom(0.1),\n",
        "])"
      ],
      "execution_count": 15,
      "outputs": []
    },
    {
      "cell_type": "code",
      "metadata": {
        "id": "Os9d5M0-VS-v"
      },
      "source": [
        "from tensorflow.keras import regularizers\n",
        "\n",
        "# regularization techniques, and use them to improve on a classification model.\n",
        "l2_model = tf.keras.models.Sequential([\n",
        "    layers.Dense(16, activation='elu',\n",
        "                 kernel_regularizer=regularizers.l2(0.001),\n",
        "                 input_shape=(150,150,3)),\n",
        "    layers.Dense(16, activation='elu'),\n",
        "    layers.Dense(3)\n",
        "])\n"
      ],
      "execution_count": 16,
      "outputs": []
    },
    {
      "cell_type": "code",
      "metadata": {
        "id": "daK28UgBPj6S"
      },
      "source": [
        "model = tf.keras.models.Sequential([\n",
        "    data_augmentation,\n",
        "    l2_model,\n",
        "    tf.keras.layers.Conv2D(32, (3,3), activation='relu', input_shape=(150, 150, 3)),\n",
        "    tf.keras.layers.MaxPooling2D(),\n",
        "    tf.keras.layers.Conv2D(64, (3,3), strides= 2, activation='relu'),\n",
        "    tf.keras.layers.MaxPooling2D(),\n",
        "    tf.keras.layers.Dropout(0.4),\n",
        "    tf.keras.layers.Flatten(),\n",
        "    tf.keras.layers.Dense(3, activation='softmax')\n",
        "])"
      ],
      "execution_count": 17,
      "outputs": []
    },
    {
      "cell_type": "code",
      "metadata": {
        "id": "7fkyRP7g3e7M"
      },
      "source": [
        "model.compile(loss='categorical_crossentropy',\n",
        "              optimizer='adam',\n",
        "              metrics=['accuracy'])"
      ],
      "execution_count": 18,
      "outputs": []
    },
    {
      "cell_type": "code",
      "metadata": {
        "id": "LesEI6fEkpH9"
      },
      "source": [
        "my_callbacks = [\n",
        "    tf.keras.callbacks.EarlyStopping(patience=10),\n",
        "    tf.keras.callbacks.ModelCheckpoint(filepath='model.{epoch:02d}-{val_loss:.2f}.h5'),\n",
        "    tf.keras.callbacks.TensorBoard(log_dir='./logs'),\n",
        "]"
      ],
      "execution_count": 19,
      "outputs": []
    },
    {
      "cell_type": "code",
      "metadata": {
        "colab": {
          "base_uri": "https://localhost:8080/"
        },
        "id": "eDDk4aEx3vmw",
        "outputId": "ba50304a-bc40-464b-f4c8-4e69e06f7a1c"
      },
      "source": [
        "history = model.fit(\n",
        "      train_generator,\n",
        "      callbacks=my_callbacks,\n",
        "      steps_per_epoch=45,\n",
        "      epochs = 40,\n",
        "      validation_data= validation_generator,\n",
        "      validation_steps=5,\n",
        "      verbose=2)\n",
        "import matplotlib.pyplot as plt\n",
        "print(history.history.keys())\n",
        "# summarize history for accuracy\n",
        "plt.plot(history.history['accuracy'])\n",
        "plt.plot(history.history['val_accuracy'])\n",
        "plt.title('model accuracy')\n",
        "plt.ylabel('accuracy')\n",
        "plt.xlabel('epoch')\n",
        "plt.legend(['train', 'test'], loc='upper left')\n",
        "plt.show()\n",
        "# summarize history for loss\n",
        "plt.plot(history.history['loss'])\n",
        "plt.plot(history.history['val_loss'])\n",
        "plt.title('model loss')\n",
        "plt.ylabel('loss')\n",
        "plt.xlabel('epoch')\n",
        "plt.legend(['train', 'test'], loc='upper left')\n",
        "plt.show()\n"
      ],
      "execution_count": null,
      "outputs": [
        {
          "output_type": "stream",
          "text": [
            "Epoch 1/40\n",
            "45/45 - 30s - loss: 1.1076 - accuracy: 0.3506 - val_loss: 1.0825 - val_accuracy: 0.4000\n",
            "Epoch 2/40\n",
            "45/45 - 28s - loss: 0.9868 - accuracy: 0.5432 - val_loss: 0.9036 - val_accuracy: 0.5222\n",
            "Epoch 3/40\n",
            "45/45 - 28s - loss: 0.8884 - accuracy: 0.5963 - val_loss: 0.6678 - val_accuracy: 0.7667\n",
            "Epoch 4/40\n",
            "45/45 - 27s - loss: 0.7778 - accuracy: 0.6877 - val_loss: 0.6882 - val_accuracy: 0.7556\n",
            "Epoch 5/40\n",
            "45/45 - 27s - loss: 0.6736 - accuracy: 0.7543 - val_loss: 0.4345 - val_accuracy: 0.9000\n",
            "Epoch 6/40\n",
            "45/45 - 27s - loss: 0.5204 - accuracy: 0.8160 - val_loss: 0.4684 - val_accuracy: 0.8444\n",
            "Epoch 7/40\n",
            "45/45 - 28s - loss: 0.5346 - accuracy: 0.8160 - val_loss: 0.3399 - val_accuracy: 0.9000\n",
            "Epoch 8/40\n",
            "45/45 - 28s - loss: 0.4289 - accuracy: 0.8506 - val_loss: 0.3851 - val_accuracy: 0.9000\n",
            "Epoch 9/40\n",
            "45/45 - 27s - loss: 0.4191 - accuracy: 0.8568 - val_loss: 0.5252 - val_accuracy: 0.7667\n",
            "Epoch 10/40\n",
            "45/45 - 28s - loss: 0.4013 - accuracy: 0.8593 - val_loss: 0.2378 - val_accuracy: 0.9111\n",
            "Epoch 11/40\n",
            "45/45 - 28s - loss: 0.3540 - accuracy: 0.8704 - val_loss: 0.3664 - val_accuracy: 0.8667\n",
            "Epoch 12/40\n",
            "45/45 - 27s - loss: 0.3770 - accuracy: 0.8790 - val_loss: 0.2911 - val_accuracy: 0.8667\n",
            "Epoch 13/40\n",
            "45/45 - 27s - loss: 0.2884 - accuracy: 0.9086 - val_loss: 0.2477 - val_accuracy: 0.9222\n",
            "Epoch 14/40\n",
            "45/45 - 27s - loss: 0.3519 - accuracy: 0.8864 - val_loss: 0.4822 - val_accuracy: 0.8333\n",
            "Epoch 15/40\n",
            "45/45 - 28s - loss: 0.2868 - accuracy: 0.8951 - val_loss: 0.2549 - val_accuracy: 0.9333\n",
            "Epoch 16/40\n",
            "45/45 - 28s - loss: 0.3344 - accuracy: 0.9049 - val_loss: 0.3625 - val_accuracy: 0.8889\n",
            "Epoch 17/40\n",
            "45/45 - 27s - loss: 0.3097 - accuracy: 0.9025 - val_loss: 0.4384 - val_accuracy: 0.9000\n",
            "Epoch 18/40\n"
          ],
          "name": "stdout"
        }
      ]
    },
    {
      "cell_type": "code",
      "metadata": {
        "id": "ihFQUWXqtwWm"
      },
      "source": [
        "model.summary()"
      ],
      "execution_count": null,
      "outputs": []
    },
    {
      "cell_type": "code",
      "metadata": {
        "id": "oknOMJfyGQCf"
      },
      "source": [
        "import numpy as np\n",
        "from google.colab import files\n",
        "from keras.preprocessing import image\n",
        "import matplotlib.pyplot as plt\n",
        "import matplotlib.image as mpimg\n",
        "import matplotlib.pyplot as plt\n",
        "import matplotlib.image as mpimg\n",
        "%matplotlib inline\n",
        "\n",
        "uploaded = files.upload()\n",
        "output_indices= train_generator.class_indices\n",
        "for fn in uploaded.keys():\n",
        " \n",
        "  # predicting images\n",
        "  path = fn\n",
        "  img = image.load_img(path, target_size=(150,150))\n",
        "  imgplot = plt.imshow(img)\n",
        "  x = image.img_to_array(img)\n",
        "  x = np.expand_dims(x, axis=0)\n",
        "  x /= 255\n",
        "\n",
        "  images = np.vstack([x])\n",
        "  classes = model.predict(images, batch_size=10)\n",
        "  output = np.argmax(classes)\n",
        "\n",
        "print(output)\n",
        "for key, value in output_indices.items():\n",
        "  if value==output:\n",
        "    print(key)"
      ],
      "execution_count": null,
      "outputs": []
    }
  ]
}